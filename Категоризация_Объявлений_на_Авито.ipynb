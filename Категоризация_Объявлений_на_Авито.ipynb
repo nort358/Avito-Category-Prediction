{
  "nbformat": 4,
  "nbformat_minor": 0,
  "metadata": {
    "colab": {
      "name": "Категоризация Объявлений на Авито",
      "provenance": [],
      "collapsed_sections": [],
      "toc_visible": true
    },
    "kernelspec": {
      "name": "python3",
      "display_name": "Python 3"
    },
    "language_info": {
      "name": "python"
    }
  },
  "cells": [
    {
      "cell_type": "markdown",
      "metadata": {
        "id": "0V74AK46bs_B"
      },
      "source": [
        "# Категоризация Объявлений на Авито"
      ]
    },
    {
      "cell_type": "markdown",
      "metadata": {
        "id": "IRw6BlYcbzQd"
      },
      "source": [
        "Kaggle-соревнование, требующее построить модель, предсказывающую к какому одному из 50 классов относится объявление, на основе более чем 4,5 млн данных. Датасет содержит заголовок объявления, его описание и класс."
      ]
    },
    {
      "cell_type": "code",
      "metadata": {
        "id": "Np9OaGx7G0Wi"
      },
      "source": [
        "import pandas as pd"
      ],
      "execution_count": null,
      "outputs": []
    },
    {
      "cell_type": "code",
      "metadata": {
        "colab": {
          "resources": {
            "http://localhost:8080/nbextensions/google.colab/files.js": {
              "data": "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",
              "ok": true,
              "headers": [
                [
                  "content-type",
                  "application/javascript"
                ]
              ],
              "status": 200,
              "status_text": ""
            }
          },
          "base_uri": "https://localhost:8080/",
          "height": 344
        },
        "id": "gNcos40dc_RN",
        "outputId": "f72a83ee-ec80-4f38-d8ee-102295d9bf0c"
      },
      "source": [
        "!pip install -q kaggle\n",
        "!pip install --upgrade --force-reinstall --no-deps kaggle\n",
        "\n",
        "from google.colab import files\n",
        "files.upload()\n",
        "\n",
        "! mkdir -p  ~/.kaggle/\n",
        "!cp kaggle.json ~/.kaggle/kaggle.json\n",
        "!chmod 600 /root/.kaggle/kaggle.json\n",
        "\n",
        "!kaggle competitions download -c avito-category-prediction"
      ],
      "execution_count": null,
      "outputs": [
        {
          "output_type": "stream",
          "text": [
            "Processing /root/.cache/pip/wheels/a1/6a/26/d30b7499ff85a4a4593377a87ecf55f7d08af42f0de9b60303/kaggle-1.5.12-cp37-none-any.whl\n",
            "Installing collected packages: kaggle\n",
            "  Found existing installation: kaggle 1.5.12\n",
            "    Uninstalling kaggle-1.5.12:\n",
            "      Successfully uninstalled kaggle-1.5.12\n",
            "Successfully installed kaggle-1.5.12\n"
          ],
          "name": "stdout"
        },
        {
          "output_type": "display_data",
          "data": {
            "text/html": [
              "\n",
              "     <input type=\"file\" id=\"files-fd594479-e25e-4c82-b021-315a178ccf14\" name=\"files[]\" multiple disabled\n",
              "        style=\"border:none\" />\n",
              "     <output id=\"result-fd594479-e25e-4c82-b021-315a178ccf14\">\n",
              "      Upload widget is only available when the cell has been executed in the\n",
              "      current browser session. Please rerun this cell to enable.\n",
              "      </output>\n",
              "      <script src=\"/nbextensions/google.colab/files.js\"></script> "
            ],
            "text/plain": [
              "<IPython.core.display.HTML object>"
            ]
          },
          "metadata": {
            "tags": []
          }
        },
        {
          "output_type": "stream",
          "text": [
            "Saving kaggle (1).json to kaggle (1).json\n",
            "cp: cannot stat 'kaggle.json': No such file or directory\n",
            "chmod: cannot access '/root/.kaggle/kaggle.json': No such file or directory\n",
            "Traceback (most recent call last):\n",
            "  File \"/usr/local/bin/kaggle\", line 5, in <module>\n",
            "    from kaggle.cli import main\n",
            "  File \"/usr/local/lib/python3.7/dist-packages/kaggle/__init__.py\", line 23, in <module>\n",
            "    api.authenticate()\n",
            "  File \"/usr/local/lib/python3.7/dist-packages/kaggle/api/kaggle_api_extended.py\", line 166, in authenticate\n",
            "    self.config_file, self.config_dir))\n",
            "OSError: Could not find kaggle.json. Make sure it's located in /root/.kaggle. Or use the environment method.\n"
          ],
          "name": "stdout"
        }
      ]
    },
    {
      "cell_type": "code",
      "metadata": {
        "colab": {
          "base_uri": "https://localhost:8080/"
        },
        "id": "FbabJ6kWc_RP",
        "outputId": "b15e5019-2c55-46f3-bf77-b01065d539b3"
      },
      "source": [
        "!unzip -q /content/avito-category-prediction.zip -d data"
      ],
      "execution_count": null,
      "outputs": [
        {
          "output_type": "stream",
          "text": [
            "unzip:  cannot find or open /content/avito-category-prediction.zip, /content/avito-category-prediction.zip.zip or /content/avito-category-prediction.zip.ZIP.\n"
          ],
          "name": "stdout"
        }
      ]
    },
    {
      "cell_type": "code",
      "metadata": {
        "id": "P7AmBFFptHM-"
      },
      "source": [
        "import pandas as pd\n",
        "from google.colab import drive\n",
        "drive.mount('/content/drive',force_remount=True)\n",
        "#train = pd.read_csv('/content/drive/My Drive/train.csv')"
      ],
      "execution_count": null,
      "outputs": []
    },
    {
      "cell_type": "code",
      "metadata": {
        "id": "s3VmIRIUyMzx"
      },
      "source": [
        "!unzip -q /content/drive/MyDrive/train.csv.zip -d train"
      ],
      "execution_count": null,
      "outputs": []
    },
    {
      "cell_type": "code",
      "metadata": {
        "id": "ysDylTgzdKvO"
      },
      "source": [
        "train = pd.read_csv('/content/train/train.csv')"
      ],
      "execution_count": null,
      "outputs": []
    },
    {
      "cell_type": "markdown",
      "metadata": {
        "id": "1VWS8MvLcf3O"
      },
      "source": [
        "# Предварительный анализ датасета\n",
        "\n"
      ]
    },
    {
      "cell_type": "code",
      "metadata": {
        "colab": {
          "base_uri": "https://localhost:8080/",
          "height": 194
        },
        "id": "Ky28LgmxG0Wr",
        "outputId": "3218d4cd-768d-4679-da9b-bce03b9865b1"
      },
      "source": [
        "train.head()"
      ],
      "execution_count": null,
      "outputs": [
        {
          "output_type": "execute_result",
          "data": {
            "text/html": [
              "<div>\n",
              "<style scoped>\n",
              "    .dataframe tbody tr th:only-of-type {\n",
              "        vertical-align: middle;\n",
              "    }\n",
              "\n",
              "    .dataframe tbody tr th {\n",
              "        vertical-align: top;\n",
              "    }\n",
              "\n",
              "    .dataframe thead th {\n",
              "        text-align: right;\n",
              "    }\n",
              "</style>\n",
              "<table border=\"1\" class=\"dataframe\">\n",
              "  <thead>\n",
              "    <tr style=\"text-align: right;\">\n",
              "      <th></th>\n",
              "      <th>title</th>\n",
              "      <th>description</th>\n",
              "      <th>Category_name</th>\n",
              "      <th>Category</th>\n",
              "    </tr>\n",
              "  </thead>\n",
              "  <tbody>\n",
              "    <tr>\n",
              "      <th>0</th>\n",
              "      <td>Эбу Renault / Nissan 1,5 DCI Delphi 2001-2008 год</td>\n",
              "      <td>Комплект ЭБУ (мозги, компьютер мотора, двигате...</td>\n",
              "      <td>Запчасти и аксессуары</td>\n",
              "      <td>10</td>\n",
              "    </tr>\n",
              "    <tr>\n",
              "      <th>1</th>\n",
              "      <td>Утюг утп 1000 ватт СССР 1987 год</td>\n",
              "      <td>Продам/\\n Фото № 1-2 /\\n /\\nУтюг УТП 1000 ватт...</td>\n",
              "      <td>Бытовая техника</td>\n",
              "      <td>21</td>\n",
              "    </tr>\n",
              "    <tr>\n",
              "      <th>2</th>\n",
              "      <td>Возвму машину с выкупом</td>\n",
              "      <td>Возьму машину в аренду с последующим выкупом н...</td>\n",
              "      <td>Предложение услуг</td>\n",
              "      <td>114</td>\n",
              "    </tr>\n",
              "    <tr>\n",
              "      <th>3</th>\n",
              "      <td>Полусапожки</td>\n",
              "      <td>полусапожки в отличном состоянии, один раз оде...</td>\n",
              "      <td>Одежда, обувь, аксессуары</td>\n",
              "      <td>27</td>\n",
              "    </tr>\n",
              "    <tr>\n",
              "      <th>4</th>\n",
              "      <td>Босоножки кожаные</td>\n",
              "      <td>Кожаные(натур) босоножки Karlo Pasolini, 40 рр...</td>\n",
              "      <td>Одежда, обувь, аксессуары</td>\n",
              "      <td>27</td>\n",
              "    </tr>\n",
              "  </tbody>\n",
              "</table>\n",
              "</div>"
            ],
            "text/plain": [
              "                                               title  ... Category\n",
              "0  Эбу Renault / Nissan 1,5 DCI Delphi 2001-2008 год  ...       10\n",
              "1                   Утюг утп 1000 ватт СССР 1987 год  ...       21\n",
              "2                            Возвму машину с выкупом  ...      114\n",
              "3                                        Полусапожки  ...       27\n",
              "4                                  Босоножки кожаные  ...       27\n",
              "\n",
              "[5 rows x 4 columns]"
            ]
          },
          "metadata": {
            "tags": []
          },
          "execution_count": 3
        }
      ]
    },
    {
      "cell_type": "code",
      "metadata": {
        "colab": {
          "base_uri": "https://localhost:8080/"
        },
        "id": "tSP1bLPqG0W2",
        "outputId": "b1713a72-85c0-4427-a1de-4b465725f5d6"
      },
      "source": [
        "train.isnull().any()"
      ],
      "execution_count": null,
      "outputs": [
        {
          "output_type": "execute_result",
          "data": {
            "text/plain": [
              "title            False\n",
              "description       True\n",
              "Category_name    False\n",
              "Category         False\n",
              "dtype: bool"
            ]
          },
          "metadata": {
            "tags": []
          },
          "execution_count": 4
        }
      ]
    },
    {
      "cell_type": "code",
      "metadata": {
        "id": "MEdljP2wG0W6"
      },
      "source": [
        "train.fillna(' ', inplace = True)"
      ],
      "execution_count": null,
      "outputs": []
    },
    {
      "cell_type": "code",
      "metadata": {
        "colab": {
          "base_uri": "https://localhost:8080/"
        },
        "id": "0qPawGYWoALi",
        "outputId": "c937f0f1-d56f-400b-9437-96192b7374c7"
      },
      "source": [
        "train.isnull().any()"
      ],
      "execution_count": null,
      "outputs": [
        {
          "output_type": "execute_result",
          "data": {
            "text/plain": [
              "title            False\n",
              "description      False\n",
              "Category_name    False\n",
              "Category         False\n",
              "dtype: bool"
            ]
          },
          "metadata": {
            "tags": []
          },
          "execution_count": 6
        }
      ]
    },
    {
      "cell_type": "code",
      "metadata": {
        "colab": {
          "base_uri": "https://localhost:8080/"
        },
        "id": "QFQef8wqG0XC",
        "outputId": "2268234c-3521-4393-9ba7-d5faf9669968"
      },
      "source": [
        "print(f'Всего {len(train.Category.unique())} уникальных классов')"
      ],
      "execution_count": null,
      "outputs": [
        {
          "output_type": "stream",
          "text": [
            "Всего 50 уникальных классов\n"
          ],
          "name": "stdout"
        }
      ]
    },
    {
      "cell_type": "code",
      "metadata": {
        "colab": {
          "base_uri": "https://localhost:8080/",
          "height": 771
        },
        "id": "jc7N-M0kQEjo",
        "outputId": "8739c418-e1cd-42e3-8f22-fefaca5a7663"
      },
      "source": [
        "import seaborn as sns\n",
        "import matplotlib.pyplot as plt\n",
        "plt.figure(figsize=(20,10))\n",
        "#plt.hist(train.Category, density=True, bins=int(len(train.Category.unique())))\n",
        "train.Category_name.value_counts(normalize=True,sort=False).plot.bar()"
      ],
      "execution_count": null,
      "outputs": [
        {
          "output_type": "execute_result",
          "data": {
            "text/plain": [
              "<matplotlib.axes._subplots.AxesSubplot at 0x7f23d7788b50>"
            ]
          },
          "metadata": {
            "tags": []
          },
          "execution_count": 9
        },
        {
          "output_type": "display_data",
          "data": {
            "image/png": "[encoded data removed]",
            "text/plain": [
              "<Figure size 1440x720 with 1 Axes>"
            ]
          },
          "metadata": {
            "tags": [],
            "needs_background": "light"
          }
        }
      ]
    },
    {
      "cell_type": "code",
      "metadata": {
        "colab": {
          "base_uri": "https://localhost:8080/"
        },
        "id": "rYYPClir1qPD",
        "outputId": "4bb4f801-443c-4b54-a83f-55bb39074889"
      },
      "source": [
        "print(f'Наибольшая доля: {train.Category_name.value_counts(normalize=True)[0:1]}')\n",
        "print(f'Наименьшая доля: {train.Category_name.value_counts(normalize=True)[-1:]}')"
      ],
      "execution_count": null,
      "outputs": [
        {
          "output_type": "stream",
          "text": [
            "Наибольшая доля: Одежда, обувь, аксессуары    0.180707\n",
            "Name: Category_name, dtype: float64\n",
            "Наименьшая доля: Недвижимость за рубежом    0.000039\n",
            "Name: Category_name, dtype: float64\n"
          ],
          "name": "stdout"
        }
      ]
    },
    {
      "cell_type": "markdown",
      "metadata": {
        "id": "61makmYZOB7a"
      },
      "source": [
        "# Обработка текста"
      ]
    },
    {
      "cell_type": "markdown",
      "metadata": {
        "id": "BaOJI0nkok1l"
      },
      "source": [
        "Так как для работы с простыми моделями нет возможности использовать GPU и многие из них не поддерживают partial_fit, а возможности GoogleCollab ограничены ОЗУ = 13гб, эксперементальным путем был выясненен максимальный размер подвыборки, который вмещается в память Collab: 500к объектов. Поэтому некоторые следующие модели будут обучаться на батче с этим размером"
      ]
    },
    {
      "cell_type": "code",
      "metadata": {
        "id": "MKibGt1toIsK"
      },
      "source": [
        "import numpy as np\n",
        "np.random.seed(123)\n",
        "rand = np.random.choice(np.arange(4234042),500000)"
      ],
      "execution_count": null,
      "outputs": []
    },
    {
      "cell_type": "code",
      "metadata": {
        "id": "Ib_a-z_4rpRy"
      },
      "source": [
        "train=train.iloc[rand]"
      ],
      "execution_count": null,
      "outputs": []
    },
    {
      "cell_type": "markdown",
      "metadata": {
        "id": "yZe3Cmsuo4hS"
      },
      "source": [
        "Для того, чтобы объединить предобработку текста и токенизацию, было принято решение передавать в качестве аргумента векторизаторам кастомный токенизатор-preprocessor, объединяющий функции NLTK и pymorphy2 для лемматизации текста. Реализация составила ~4 минуты на 100к строк"
      ]
    },
    {
      "cell_type": "code",
      "metadata": {
        "id": "e6kab4DNJHb5",
        "colab": {
          "base_uri": "https://localhost:8080/"
        },
        "outputId": "84a82965-82ca-435c-8bb1-aef4fde05fa1"
      },
      "source": [
        "!pip install pymorphy2\n",
        "!pip install pymorphy2-dicts\n",
        "!pip install DAWG-Python"
      ],
      "execution_count": null,
      "outputs": [
        {
          "output_type": "stream",
          "text": [
            "Collecting pymorphy2\n",
            "\u001b[?25l  Downloading https://files.pythonhosted.org/packages/07/57/b2ff2fae3376d4f3c697b9886b64a54b476e1a332c67eee9f88e7f1ae8c9/pymorphy2-0.9.1-py3-none-any.whl (55kB)\n",
            "\r\u001b[K     |██████                          | 10kB 13.8MB/s eta 0:00:01\r\u001b[K     |███████████▉                    | 20kB 13.8MB/s eta 0:00:01\r\u001b[K     |█████████████████▊              | 30kB 9.0MB/s eta 0:00:01\r\u001b[K     |███████████████████████▋        | 40kB 8.0MB/s eta 0:00:01\r\u001b[K     |█████████████████████████████▌  | 51kB 5.4MB/s eta 0:00:01\r\u001b[K     |████████████████████████████████| 61kB 3.1MB/s \n",
            "\u001b[?25hCollecting dawg-python>=0.7.1\n",
            "  Downloading https://files.pythonhosted.org/packages/6a/84/ff1ce2071d4c650ec85745766c0047ccc3b5036f1d03559fd46bb38b5eeb/DAWG_Python-0.7.2-py2.py3-none-any.whl\n",
            "Collecting pymorphy2-dicts-ru<3.0,>=2.4\n",
            "\u001b[?25l  Downloading https://files.pythonhosted.org/packages/3a/79/bea0021eeb7eeefde22ef9e96badf174068a2dd20264b9a378f2be1cdd9e/pymorphy2_dicts_ru-2.4.417127.4579844-py2.py3-none-any.whl (8.2MB)\n",
            "\u001b[K     |████████████████████████████████| 8.2MB 8.0MB/s \n",
            "\u001b[?25hRequirement already satisfied: docopt>=0.6 in /usr/local/lib/python3.7/dist-packages (from pymorphy2) (0.6.2)\n",
            "Installing collected packages: dawg-python, pymorphy2-dicts-ru, pymorphy2\n",
            "Successfully installed dawg-python-0.7.2 pymorphy2-0.9.1 pymorphy2-dicts-ru-2.4.417127.4579844\n",
            "Collecting pymorphy2-dicts\n",
            "\u001b[?25l  Downloading https://files.pythonhosted.org/packages/02/51/2465fd4f72328ab50877b54777764d928da8cb15b74e2680fc1bd8cb3173/pymorphy2_dicts-2.4.393442.3710985-py2.py3-none-any.whl (7.1MB)\n",
            "\u001b[K     |████████████████████████████████| 7.1MB 5.0MB/s \n",
            "\u001b[?25hInstalling collected packages: pymorphy2-dicts\n",
            "Successfully installed pymorphy2-dicts-2.4.393442.3710985\n",
            "Requirement already satisfied: DAWG-Python in /usr/local/lib/python3.7/dist-packages (0.7.2)\n"
          ],
          "name": "stdout"
        }
      ]
    },
    {
      "cell_type": "code",
      "metadata": {
        "id": "Yt8V_rYdJME3",
        "colab": {
          "base_uri": "https://localhost:8080/"
        },
        "outputId": "9b7c4472-3a89-4f30-b32e-2cbc6583c775"
      },
      "source": [
        "from pymorphy2 import MorphAnalyzer\n",
        "\n",
        "pymorphy2_analyzer = MorphAnalyzer()\n",
        "\n",
        "from string import punctuation\n",
        "from nltk.tokenize import word_tokenize\n",
        "import nltk\n",
        "from nltk.corpus import stopwords\n",
        "nltk.download(\"stopwords\")\n",
        "nltk.download('punkt')\n",
        "\n",
        "noise = stopwords.words('russian') + list(punctuation)\n",
        "\n",
        "def my_tokenizer(t):\n",
        "  a=[]\n",
        "  for w in word_tokenize(t):\n",
        "    if w.isalpha() and w.lower() not in noise:\n",
        "      a.append(pymorphy2_analyzer.parse(w.lower())[0].normal_form)\n",
        "  return a "
      ],
      "execution_count": null,
      "outputs": [
        {
          "output_type": "stream",
          "text": [
            "[nltk_data] Downloading package stopwords to /root/nltk_data...\n",
            "[nltk_data]   Unzipping corpora/stopwords.zip.\n",
            "[nltk_data] Downloading package punkt to /root/nltk_data...\n",
            "[nltk_data]   Unzipping tokenizers/punkt.zip.\n"
          ],
          "name": "stdout"
        }
      ]
    },
    {
      "cell_type": "markdown",
      "metadata": {
        "id": "gNHK5ppRpUC3"
      },
      "source": [
        "Каждая из моделей обучалась отдельно на описании, и заголовке, все они показали результаты сильно хуже, чем модели, обученные одновременно на всем имеющемся тексте. Обучать разные модели отдельно на описании, и отдельно на заголовке, чтобы в последствии, например, использовать стекинг моделей, не имело бы смысла, так как они имеют разный порядок качества, и последние не сравнимо хуже. Поэтому далее они обучаются на всем тексте"
      ]
    },
    {
      "cell_type": "code",
      "metadata": {
        "id": "L5NKJnL2JQBv"
      },
      "source": [
        "train['text']=train['description']+' '+train['title']"
      ],
      "execution_count": null,
      "outputs": []
    },
    {
      "cell_type": "markdown",
      "metadata": {
        "id": "G4RZQzdCqwwZ"
      },
      "source": [
        "Модели на векторизованных TfidfVectorizer'ом показали результаты такие же или хуже по сравнению с CountVectorizer, а этап обработки текста занимал примерно в 1,5 больше, поэтому предпочтение было отдано последнему"
      ]
    },
    {
      "cell_type": "code",
      "metadata": {
        "id": "-np-SRYgRM98"
      },
      "source": [
        "from sklearn.feature_extraction.text import CountVectorizer\n",
        "cnt = CountVectorizer(tokenizer=my_tokenizer,max_features=200000)\n",
        "\n",
        "transformed = cnt.fit_transform(train['text'].tolist())"
      ],
      "execution_count": null,
      "outputs": []
    },
    {
      "cell_type": "code",
      "metadata": {
        "id": "AYVHxomPJiVI"
      },
      "source": [
        "y=train['Category']\n",
        "from sklearn.model_selection import train_test_split\n",
        "from sklearn.metrics import accuracy_score"
      ],
      "execution_count": null,
      "outputs": []
    },
    {
      "cell_type": "code",
      "metadata": {
        "id": "vbZgDfmtSaDO"
      },
      "source": [
        "del train"
      ],
      "execution_count": null,
      "outputs": []
    },
    {
      "cell_type": "code",
      "metadata": {
        "id": "DDeQW0m5Oq9b"
      },
      "source": [
        "import scipy\n",
        "transformed=scipy.sparse.load_npz('/content/drive/My Drive/transformed.nzp.npz')\n",
        "X_train, X_test, y_train, y_test = train_test_split(transformed, y, test_size=0.2,random_state=123)"
      ],
      "execution_count": null,
      "outputs": []
    },
    {
      "cell_type": "markdown",
      "metadata": {
        "id": "-LPnrJifJ-Df"
      },
      "source": [
        "# LogReg, SGD"
      ]
    },
    {
      "cell_type": "code",
      "metadata": {
        "id": "Qee8wUwyJ3lC"
      },
      "source": [
        "from sklearn.linear_model import SGDClassifier, LogisticRegression\n",
        "from sklearn.model_selection import GridSearchCV\n",
        "from sklearn.metrics import accuracy_score\n",
        "\n",
        "grid = {\"C\":[1e-2, 1e-1, 1e0], \"penalty\":[\"l1\",\"l2\"]}\n",
        "\n",
        "LogReg = LogisticRegression(verbose=100, n_jobs=-1, random_state=42, solver =)\n",
        "logreg_cv=GridSearchCV(LogReg,grid,cv=10)"
      ],
      "execution_count": null,
      "outputs": []
    },
    {
      "cell_type": "code",
      "metadata": {
        "id": "gfXls5liDSw2",
        "colab": {
          "base_uri": "https://localhost:8080/"
        },
        "outputId": "094630e6-1f1c-4621-d402-b22f04c67376"
      },
      "source": [
        "logreg_cv.fit(X_train,y_train)"
      ],
      "execution_count": null,
      "outputs": [
        {
          "output_type": "stream",
          "text": [
            "/usr/local/lib/python3.7/dist-packages/sklearn/model_selection/_validation.py:536: FitFailedWarning: Estimator fit failed. The score on this train-test partition for these parameters will be set to nan. Details: \n",
            "ValueError: Solver lbfgs supports only 'l2' or 'none' penalties, got l1 penalty.\n",
            "\n",
            "  FitFailedWarning)\n"
          ],
          "name": "stderr"
        },
        {
          "output_type": "stream",
          "text": [
            "[Parallel(n_jobs=-1)]: Using backend LokyBackend with 2 concurrent workers.\n"
          ],
          "name": "stdout"
        }
      ]
    },
    {
      "cell_type": "markdown",
      "metadata": {
        "id": "5HrN1iV4Qljk"
      },
      "source": [
        "SGD_Classifier поддерживает partial_fit, однако векторизорвать больше, чем 500к объектов все равно не представляется вомзможным, поэтоиу SGD обучается на том же наборе данных"
      ]
    },
    {
      "cell_type": "code",
      "metadata": {
        "id": "ZY-YS91aNlpM"
      },
      "source": [
        "sgd = SGDClassifier(verbose=100, n_jobs=-1, random_state=42)\n",
        "sgd.fit(X_train,y_train)\n",
        "\n",
        "pred_sgd = sgd.predict(X_test)"
      ],
      "execution_count": null,
      "outputs": []
    },
    {
      "cell_type": "code",
      "metadata": {
        "id": "1-TGclLKrd63",
        "colab": {
          "base_uri": "https://localhost:8080/"
        },
        "outputId": "21ed693f-4552-430d-ab7b-5260e816dd77"
      },
      "source": [
        "#SGD_accuracy\n",
        "print(f'Скор: {accuracy_score(y_test,pred_sgd)}')"
      ],
      "execution_count": null,
      "outputs": [
        {
          "output_type": "stream",
          "text": [
            "Скор: 0.77666\n"
          ],
          "name": "stdout"
        }
      ]
    },
    {
      "cell_type": "code",
      "metadata": {
        "id": "i3bHjJDAXQhO",
        "colab": {
          "base_uri": "https://localhost:8080/"
        },
        "outputId": "8509bbb6-52ee-48cc-ee08-149a68532b5c"
      },
      "source": [
        "#logreg accuarcy\n",
        "print(f'{logreg_cv.best_score_, 'accuracy')"
      ],
      "execution_count": null,
      "outputs": [
        {
          "output_type": "stream",
          "text": [
            "0.82333 accuarcy\n"
          ],
          "name": "stdout"
        }
      ]
    },
    {
      "cell_type": "markdown",
      "metadata": {
        "id": "eAKNRJI3PHY7"
      },
      "source": [
        "# LightGBM with SVD"
      ]
    },
    {
      "cell_type": "code",
      "metadata": {
        "id": "b1YD2rLTPHz5"
      },
      "source": [
        "from sklearn.decomposition import TruncatedSVD\n",
        "svd=TruncatedSVD(500)\n",
        "print(sum(svd.explained_variance_))\n",
        "transformed_svd=svd.fit_transform(X_train)"
      ],
      "execution_count": null,
      "outputs": []
    },
    {
      "cell_type": "code",
      "metadata": {
        "id": "FzQO5DYcPPSB"
      },
      "source": [
        "boost_svd = lightgbm.LGBMClassifier(n_jobs=-1)\n",
        "boost_svd.fit(transformed_svd,y_train)\n",
        "\n",
        "pred_boost_svd = boost1.predict(svd.transform(X_test))\n",
        "\n",
        "print(f'{accuracy_score(y_test,pred_boost_svd)} boost_svd accuracy')"
      ],
      "execution_count": null,
      "outputs": []
    },
    {
      "cell_type": "markdown",
      "metadata": {
        "id": "S6U86CzRRPGu"
      },
      "source": [
        "# FastText"
      ]
    },
    {
      "cell_type": "markdown",
      "metadata": {
        "id": "pM-Q4qwGYAij"
      },
      "source": [
        "fasttext - библиотека, предоставляющая классифкатор, работающий более, чем на 150 языков, а также предобученные на разных корпусах модели, позволяющие как создавать эмбеддинги в пространстве модели, так и использовать предобученные модели для создания своих  собственных. Без предобученных векторов модель, обученная на 1кк объектах датасета показала резульата 0.88 f1-score на тесте и 0.9 f1-score на тесте на модели со встроенным валидационным автотюном"
      ]
    },
    {
      "cell_type": "code",
      "metadata": {
        "colab": {
          "base_uri": "https://localhost:8080/"
        },
        "id": "_lTB0HlMZgf4",
        "outputId": "3db8ecb3-856a-4d17-bf1d-8cd3ea5d707c"
      },
      "source": [
        "import pandas as pd\n",
        "from google.colab import drive\n",
        "drive.mount('/content/drive')\n",
        "X = pd.read_csv('/content/drive/My Drive/avito1kk.csv') #500k #для оптимизации работы с CPU датасет со случайным миллионом строк был заранее загружен в файл"
      ],
      "execution_count": null,
      "outputs": [
        {
          "output_type": "stream",
          "text": [
            "Drive already mounted at /content/drive; to attempt to forcibly remount, call drive.mount(\"/content/drive\", force_remount=True).\n"
          ],
          "name": "stdout"
        }
      ]
    },
    {
      "cell_type": "code",
      "metadata": {
        "id": "9yJ-TPSGOwq0"
      },
      "source": [
        "X['text']=X['description']+' '+X['title']"
      ],
      "execution_count": null,
      "outputs": []
    },
    {
      "cell_type": "code",
      "metadata": {
        "colab": {
          "base_uri": "https://localhost:8080/"
        },
        "id": "3sVq6Oqpmy3p",
        "outputId": "1dde56a9-a385-47f4-966c-fc4c70d0677f"
      },
      "source": [
        "!pip install fasttext\n",
        "import fasttext\n",
        "from gensim.utils import simple_preprocess\n",
        "\n",
        "from sklearn.model_selection import train_test_split\n",
        "\n",
        "y=X['Category']\n",
        "X_train, X_valid, y_train, y_valid = train_test_split(X['text'], y, test_size=0.2,random_state=123)"
      ],
      "execution_count": null,
      "outputs": [
        {
          "output_type": "stream",
          "text": [
            "Requirement already satisfied: fasttext in /usr/local/lib/python3.7/dist-packages (0.9.2)\n",
            "Requirement already satisfied: setuptools>=0.7.0 in /usr/local/lib/python3.7/dist-packages (from fasttext) (56.1.0)\n",
            "Requirement already satisfied: pybind11>=2.2 in /usr/local/lib/python3.7/dist-packages (from fasttext) (2.6.2)\n",
            "Requirement already satisfied: numpy in /usr/local/lib/python3.7/dist-packages (from fasttext) (1.19.5)\n"
          ],
          "name": "stdout"
        }
      ]
    },
    {
      "cell_type": "markdown",
      "metadata": {
        "id": "Wvy5UOK0WYR3"
      },
      "source": [
        "Для работы с fasttext необходим текстовый файл, на каждой строке которого будут обозначены лейблы в формате '\\_\\_label\\_\\_{имя лейбла}' и далее после пробела должна следовать строка текста. Внутрь модели не встроен токенизатор, поэтому препроцессинг данных происходит с помощью токенизатора gensim, реализация которого оптимальнее собственного, реализованного выше, ~в 10 раз. Ниже прописана функция, выполняющая все необходимые для fasttext действия"
      ]
    },
    {
      "cell_type": "code",
      "metadata": {
        "id": "YqX_dMNEE6kW"
      },
      "source": [
        "def create_txt(X,y,name):\n",
        "  df = pd.DataFrame({'labels':len(X)*['__label__'], 'Category':y.reset_index()['Category'].astype('str')})\n",
        "  df['labels+Category'] = df['labels']+df['Category']\n",
        "  df['text'] = X.reset_index()['text'].apply(lambda x: ' '.join(simple_preprocess(x))) #препроцессинг текста\n",
        "  \n",
        "  df[['labels+Category', 'text']].to_csv(f'/content/{name}', \n",
        "                                          index = False, \n",
        "                                          sep = ' ',\n",
        "                                          header = None, \n",
        "                                          escapechar = \" \")"
      ],
      "execution_count": null,
      "outputs": []
    },
    {
      "cell_type": "code",
      "metadata": {
        "id": "4xOCMN9GFVRE"
      },
      "source": [
        "create_txt(X_train,y_train,'train.txt')\n",
        "create_txt(X_valid,y_valid,'test.txt')"
      ],
      "execution_count": null,
      "outputs": []
    },
    {
      "cell_type": "code",
      "metadata": {
        "id": "cxnJWk0DXjr2"
      },
      "source": [
        "model = fasttext.train_supervised('train.txt', wordNgrams = 2, epoch = 25, lr=1,dim=100,loss='hs')"
      ],
      "execution_count": null,
      "outputs": []
    },
    {
      "cell_type": "markdown",
      "metadata": {
        "id": "MiiOHes0YsON"
      },
      "source": [
        "Результаты на train и test модели без автотюна: "
      ]
    },
    {
      "cell_type": "code",
      "metadata": {
        "colab": {
          "base_uri": "https://localhost:8080/"
        },
        "id": "RwrENMN-CfXO",
        "outputId": "9c182d03-3066-4897-f08f-ef7e9721446d"
      },
      "source": [
        "model.test('test.txt')"
      ],
      "execution_count": null,
      "outputs": [
        {
          "output_type": "execute_result",
          "data": {
            "text/plain": [
              "(200000, 0.888395, 0.888395)"
            ]
          },
          "metadata": {
            "tags": []
          },
          "execution_count": 7
        }
      ]
    },
    {
      "cell_type": "code",
      "metadata": {
        "colab": {
          "base_uri": "https://localhost:8080/"
        },
        "id": "GWl0dGbnMTpo",
        "outputId": "cf416359-ef78-4156-a2e7-a449a2b64ed5"
      },
      "source": [
        "model.test('train.txt')"
      ],
      "execution_count": null,
      "outputs": [
        {
          "output_type": "execute_result",
          "data": {
            "text/plain": [
              "(800000, 0.97414125, 0.97414125)"
            ]
          },
          "metadata": {
            "tags": []
          },
          "execution_count": 12
        }
      ]
    },
    {
      "cell_type": "markdown",
      "metadata": {
        "id": "IUa0cdRXX8zC"
      },
      "source": [
        "Результат модели с автотюном"
      ]
    },
    {
      "cell_type": "code",
      "metadata": {
        "id": "azklRy6lqWdk"
      },
      "source": [
        "model = fasttext.train_supervised('train.txt', wordNgrams = 2, epoch = 25, lr=1,dim=100,loss='hs',autotuneValidationFile='test.txt', autotuneDuration=600)"
      ],
      "execution_count": null,
      "outputs": []
    },
    {
      "cell_type": "code",
      "metadata": {
        "colab": {
          "base_uri": "https://localhost:8080/"
        },
        "id": "AudPfGx_Inhc",
        "outputId": "99971f01-5cbd-46a6-8408-15e946c54bd9"
      },
      "source": [
        "model.test('test.txt')"
      ],
      "execution_count": null,
      "outputs": [
        {
          "output_type": "execute_result",
          "data": {
            "text/plain": [
              "(200000, 0.905985, 0.905985)"
            ]
          },
          "metadata": {
            "tags": []
          },
          "execution_count": 20
        }
      ]
    },
    {
      "cell_type": "code",
      "metadata": {
        "colab": {
          "base_uri": "https://localhost:8080/"
        },
        "id": "pOQTbSQOOh_d",
        "outputId": "b652e10d-91bd-40c6-8de2-8cb4907929ef"
      },
      "source": [
        "model.test('train.txt')"
      ],
      "execution_count": null,
      "outputs": [
        {
          "output_type": "execute_result",
          "data": {
            "text/plain": [
              "(800000, 0.9964125, 0.9964125)"
            ]
          },
          "metadata": {
            "tags": []
          },
          "execution_count": 9
        }
      ]
    },
    {
      "cell_type": "markdown",
      "metadata": {
        "id": "AJ1m6bWogsAR"
      },
      "source": [
        "# FastText на предобученных векторах"
      ]
    },
    {
      "cell_type": "markdown",
      "metadata": {
        "id": "tq5yACfFZLMh"
      },
      "source": [
        "В собственную модель можно передать как аргумент предобученый словарь текстов. Для этого необходимо использовать .vec файл. На официальном сайте можно найти эти файлы, однако модель по какой-то причине выдавала ошибку не совпадения измерений векторов. То есть размерность вектора не соответствовала заявленной 300. Тогда одним из решений было сжать (для большего удобства, так ккак особого прироста в качестве это не давало) модель до размерности 100 и записать в файл .vec. Модель показала результаты f1-score 0.88, что говорит о не очень удачном transfer learninge (его отсутствии)."
      ]
    },
    {
      "cell_type": "code",
      "metadata": {
        "colab": {
          "base_uri": "https://localhost:8080/"
        },
        "id": "Uu5hZXy5Z5N4",
        "outputId": "3551465b-3019-496b-e891-3e1634775618"
      },
      "source": [
        "import fasttext.util\n",
        "fasttext.util.download_model('ru', if_exists='ignore')\n",
        "ft = fasttext.load_model('cc.ru.300.bin')"
      ],
      "execution_count": null,
      "outputs": [
        {
          "output_type": "stream",
          "text": [
            "Warning : `load_model` does not return WordVectorModel or SupervisedModel any more, but a `FastText` object which is very similar.\n"
          ],
          "name": "stderr"
        }
      ]
    },
    {
      "cell_type": "code",
      "metadata": {
        "colab": {
          "base_uri": "https://localhost:8080/"
        },
        "id": "OAIp19nGZshk",
        "outputId": "deb8cf0f-6f3c-479a-a8eb-b382134dd85b"
      },
      "source": [
        "ft.get_dimension()"
      ],
      "execution_count": null,
      "outputs": [
        {
          "output_type": "execute_result",
          "data": {
            "text/plain": [
              "300"
            ]
          },
          "metadata": {
            "tags": []
          },
          "execution_count": 12
        }
      ]
    },
    {
      "cell_type": "code",
      "metadata": {
        "id": "6n_gWwWiZzwx"
      },
      "source": [
        "fasttext.util.reduce_model(ft, 100)\n",
        "ft.get_dimension()"
      ],
      "execution_count": null,
      "outputs": []
    },
    {
      "cell_type": "code",
      "metadata": {
        "id": "OEuCJ0kXgnF0"
      },
      "source": [
        "words = ft.get_words()\n",
        "\n",
        "with open('/content/drive/MyDrive/cc-ru-100-vec-reduced.vec','w') as file_out:\n",
        "    \n",
        "    file_out.write(str(len(words)) + \" \" + str(ft.get_dimension()) + \"\\n\")\n",
        "\n",
        "    for w in words:\n",
        "        v = f.get_word_vector(w)\n",
        "        vstr = \"\"\n",
        "        for vi in v:\n",
        "            vstr += \" \" + str(vi)\n",
        "        try:\n",
        "            file_out.write(w + vstr+'\\n')\n",
        "            pass"
      ],
      "execution_count": null,
      "outputs": []
    },
    {
      "cell_type": "code",
      "metadata": {
        "id": "wMbjsTrn4N7-"
      },
      "source": [
        "model = fasttext.train_supervised('train.txt', wordNgrams = 2, epoch = 25, lr=1,dim=100,loss='hs', pretrainedVectors='/content/drive/MyDrive/cc-ru-100-vec-reduced.vec')"
      ],
      "execution_count": null,
      "outputs": []
    },
    {
      "cell_type": "code",
      "metadata": {
        "colab": {
          "base_uri": "https://localhost:8080/"
        },
        "id": "IX6K6TofgGUU",
        "outputId": "8456a523-2c80-4927-a948-ecda691d79eb"
      },
      "source": [
        "model.test('test.txt')"
      ],
      "execution_count": null,
      "outputs": [
        {
          "output_type": "execute_result",
          "data": {
            "text/plain": [
              "(200000, 0.88816, 0.88816)"
            ]
          },
          "metadata": {
            "tags": []
          },
          "execution_count": 8
        }
      ]
    },
    {
      "cell_type": "markdown",
      "metadata": {
        "id": "KJOU1kHMJgxm"
      },
      "source": [
        "# FastText-encoder-based models - SGD, LightGBM"
      ]
    },
    {
      "cell_type": "markdown",
      "metadata": {
        "id": "pfzLJ8bpUqhY"
      },
      "source": [
        "Помимо возможности обучения модели самостоятельно, fasttext можно использовать как unsupervised модель - создавать эмбеддинги. Для этого с официального сайта была скачана модель .bin, которая была обучена на расской части Википедии. Готовые эмбеддинги были использвоаны в модели SGD, как более быстрый, но сравнительно менее качественый аналог логистической регресии, чтобы проверить гипотезху уместности построения векторов на предобученной модели и использовании сторонней моедли. Удалось векторизовать на CPU датасет размером 1млн и применить SGD c итоговым accuracy 0.74."
      ]
    },
    {
      "cell_type": "code",
      "metadata": {
        "id": "cOi29ORBp_ig"
      },
      "source": [
        "import fasttext.util\n",
        "fasttext.util.download_model('ru', if_exists='ignore')\n",
        "ft = fasttext.load_model('cc.ru.300.bin')"
      ],
      "execution_count": null,
      "outputs": []
    },
    {
      "cell_type": "code",
      "metadata": {
        "colab": {
          "base_uri": "https://localhost:8080/"
        },
        "id": "gxX-Hu4ipLNx",
        "outputId": "dc94ad10-ac0e-4012-a58a-4b5ce1824442"
      },
      "source": [
        "# import pandas as pd\n",
        "# from google.colab import drive\n",
        "# drive.mount('/content/drive')\n",
        "X = pd.read_csv('/content/drive/My Drive/avito1kk.csv') #500k"
      ],
      "execution_count": null,
      "outputs": [
        {
          "output_type": "stream",
          "text": [
            "Drive already mounted at /content/drive; to attempt to forcibly remount, call drive.mount(\"/content/drive\", force_remount=True).\n"
          ],
          "name": "stdout"
        }
      ]
    },
    {
      "cell_type": "code",
      "metadata": {
        "id": "b5aBGoxgpVwA"
      },
      "source": [
        "# X['text']=X['description']+' '+X['title']"
      ],
      "execution_count": null,
      "outputs": []
    },
    {
      "cell_type": "code",
      "metadata": {
        "colab": {
          "base_uri": "https://localhost:8080/"
        },
        "id": "m0Q7eeP1pY7O",
        "outputId": "8ed3bfcd-96ed-4772-837b-991a96d06565"
      },
      "source": [
        "!pip install fasttext\n",
        "import fasttext\n",
        "from gensim.utils import simple_preprocess\n",
        "\n",
        "from sklearn.model_selection import train_test_split\n",
        "\n",
        "y=X['Category']\n",
        "X_train_fast, X_valid_fast, y_train_fast, y_valid_fast = train_test_split(train['text'], y, test_size=0.2,random_state=123)"
      ],
      "execution_count": null,
      "outputs": [
        {
          "output_type": "stream",
          "text": [
            "Requirement already satisfied: fasttext in /usr/local/lib/python3.7/dist-packages (0.9.2)\n",
            "Requirement already satisfied: setuptools>=0.7.0 in /usr/local/lib/python3.7/dist-packages (from fasttext) (56.1.0)\n",
            "Requirement already satisfied: pybind11>=2.2 in /usr/local/lib/python3.7/dist-packages (from fasttext) (2.6.2)\n",
            "Requirement already satisfied: numpy in /usr/local/lib/python3.7/dist-packages (from fasttext) (1.19.5)\n"
          ],
          "name": "stdout"
        }
      ]
    },
    {
      "cell_type": "code",
      "metadata": {
        "id": "1YuR8SFQpjBi"
      },
      "source": [
        "train, val = pd.DataFrame(), pd.DataFrame(),\n",
        "train['text'] = X_train_fast.reset_index()['text'].apply(lambda x: ' '.join(simple_preprocess(x)))\n",
        "val['text'] = X_valid_fast.reset_index()['text'].apply(lambda x: ' '.join(simple_preprocess(x)))"
      ],
      "execution_count": null,
      "outputs": []
    },
    {
      "cell_type": "markdown",
      "metadata": {
        "id": "NIiguewZT75S"
      },
      "source": [
        "Здесь происходит получение эмбеддингов из предобученной модели. Размерной векторов в модели - 300."
      ]
    },
    {
      "cell_type": "code",
      "metadata": {
        "colab": {
          "base_uri": "https://localhost:8080/"
        },
        "id": "UWrWoTsTlmHf",
        "outputId": "b29b0181-d756-454e-9cbd-5fb75e604294"
      },
      "source": [
        "from tqdm import tqdm\n",
        "embeddings_train = []\n",
        "for sentence in tqdm(train['text'].tolist()):  \n",
        "  ft.get_sentence_vector(sentence)\n",
        "  embeddings_train.append(ft.get_sentence_vector(sentence))"
      ],
      "execution_count": null,
      "outputs": [
        {
          "output_type": "stream",
          "text": [
            "100%|██████████| 560000/560000 [03:56<00:00, 2372.71it/s]\n"
          ],
          "name": "stderr"
        }
      ]
    },
    {
      "cell_type": "code",
      "metadata": {
        "colab": {
          "base_uri": "https://localhost:8080/"
        },
        "id": "EZo1Q3VEtdve",
        "outputId": "88359605-6f1f-4b3f-deeb-e42346bff8c7"
      },
      "source": [
        "embeddings_val = []\n",
        "for sentence in tqdm(val.text.tolist()):  \n",
        "  ft.get_sentence_vector(sentence)\n",
        "  embeddings_val.append(ft.get_sentence_vector(sentence))"
      ],
      "execution_count": null,
      "outputs": [
        {
          "output_type": "stream",
          "text": [
            "100%|██████████| 140000/140000 [00:57<00:00, 2438.26it/s]\n"
          ],
          "name": "stderr"
        }
      ]
    },
    {
      "cell_type": "code",
      "metadata": {
        "colab": {
          "base_uri": "https://localhost:8080/"
        },
        "id": "rRDyJlsQsj5a",
        "outputId": "bebc96d3-f7db-4a77-ad5a-403337a4fd07"
      },
      "source": [
        "import numpy as np\n",
        "\n",
        "np.array(embeddings_val).shape"
      ],
      "execution_count": null,
      "outputs": [
        {
          "output_type": "execute_result",
          "data": {
            "text/plain": [
              "(140000, 300)"
            ]
          },
          "metadata": {
            "tags": []
          },
          "execution_count": 41
        }
      ]
    },
    {
      "cell_type": "code",
      "metadata": {
        "id": "SLNB4tUeyBSK"
      },
      "source": [
        "tes = pd.DataFrame({'text':embeddings_train})\n",
        "val = pd.DataFrame({'text':embeddings_val})"
      ],
      "execution_count": null,
      "outputs": []
    },
    {
      "cell_type": "code",
      "metadata": {
        "id": "_nS8wKU6vTuT"
      },
      "source": [
        "from sklearn.linear_model import SGDClassifier\n",
        "from sklearn.metrics import accuracy_score\n",
        "\n",
        "sgd = SGDClassifier(verbose=100, n_jobs=-1, random_state=42)\n",
        "sgd.fit(embeddings_train,y_train_fast)\n",
        "pred_sgd = sgd.predict(embeddings_val)\n",
        "\n",
        "print(f'{accuracy_score(y_valid_fast, pred_sgd)} sgd accuracy')"
      ],
      "execution_count": null,
      "outputs": []
    },
    {
      "cell_type": "code",
      "metadata": {
        "colab": {
          "base_uri": "https://localhost:8080/"
        },
        "id": "UofZb8ic-0wn",
        "outputId": "92fff28b-8a53-47ad-d1c0-82e89c1580cb"
      },
      "source": [
        "print(f'{accuracy_score(y_valid_fast, pred_sgd)} sgd accuracy')"
      ],
      "execution_count": null,
      "outputs": [
        {
          "output_type": "stream",
          "text": [
            "0.7446928571428572 sgd accuracy\n"
          ],
          "name": "stdout"
        }
      ]
    },
    {
      "cell_type": "markdown",
      "metadata": {
        "id": "fZxLMawAoMR5"
      },
      "source": [
        "Обучение градиентного бустинга"
      ]
    },
    {
      "cell_type": "code",
      "metadata": {
        "id": "PG_uVd-6oLLy"
      },
      "source": [
        "import lightgbm\n",
        "from sklearn.metrics import f1_score\n",
        "\n",
        "boost1 = lightgbm.LGBMClassifier(n_jobs=-1)\n",
        "boost1.fit(embeddings_train,y_train, verbose=100)\n"
      ],
      "execution_count": null,
      "outputs": []
    },
    {
      "cell_type": "code",
      "metadata": {
        "id": "JLOTx7yycxoh",
        "outputId": "352bbcb7-3e25-4574-bcc3-446a4c7023d6"
      },
      "source": [
        "from sklearn.metrics import classification_report\n",
        "print(classification_report(y_valid, boost1.predict(embeddings_val)))"
      ],
      "execution_count": null,
      "outputs": [
        {
          "output_type": "stream",
          "text": [
            "              precision    recall  f1-score   support\n",
            "\n",
            "           9       0.82      0.79      0.81      6037\n",
            "          10       0.87      0.86      0.86     35144\n",
            "          11       0.01      0.37      0.03       234\n",
            "          14       0.25      0.36      0.29       554\n",
            "          19       0.61      0.64      0.62      6511\n",
            "          20       0.70      0.62      0.66      7391\n",
            "          21       0.64      0.60      0.62      3380\n",
            "          23       0.22      0.34      0.27       538\n",
            "          24       0.76      0.58      0.66      6607\n",
            "          25       0.74      0.72      0.73      2359\n",
            "          26       0.76      0.77      0.77      1273\n",
            "          27       0.78      0.77      0.78     35714\n",
            "          28       0.67      0.67      0.67      2795\n",
            "          29       0.81      0.72      0.76     27349\n",
            "          30       0.69      0.64      0.66      9788\n",
            "          31       0.22      0.28      0.24       661\n",
            "          32       0.57      0.39      0.46      4003\n",
            "          33       0.00      0.06      0.01       145\n",
            "          34       0.47      0.48      0.48       883\n",
            "          36       0.50      0.43      0.46      4786\n",
            "          38       0.37      0.45      0.41       794\n",
            "          39       0.57      0.43      0.49      4026\n",
            "          40       0.49      0.40      0.44      1558\n",
            "          42       0.61      0.73      0.66      1034\n",
            "          81       0.37      0.39      0.38       772\n",
            "          82       0.40      0.44      0.42       859\n",
            "          83       0.62      0.63      0.63      2878\n",
            "          84       0.74      0.60      0.66      5334\n",
            "          85       0.29      0.53      0.37       634\n",
            "          86       0.00      0.00      0.00        11\n",
            "          87       0.50      0.51      0.50      2032\n",
            "          88       0.70      0.58      0.63      3472\n",
            "          89       0.52      0.54      0.53       675\n",
            "          90       0.61      0.63      0.62       729\n",
            "          91       0.18      0.09      0.12       164\n",
            "          92       0.03      0.03      0.03       234\n",
            "          93       0.22      0.37      0.27       552\n",
            "          94       0.31      0.38      0.34       650\n",
            "          96       0.20      0.27      0.23       619\n",
            "          97       0.54      0.32      0.41      1301\n",
            "          98       0.17      0.52      0.26       876\n",
            "          99       0.26      0.29      0.28       926\n",
            "         101       0.48      0.51      0.50      3243\n",
            "         102       0.19      0.22      0.20       557\n",
            "         105       0.62      0.60      0.61      1179\n",
            "         106       0.49      0.60      0.54      1034\n",
            "         111       0.65      0.74      0.69      1329\n",
            "         112       0.17      0.27      0.21       605\n",
            "         114       0.71      0.61      0.66      5597\n",
            "         116       0.06      0.14      0.08       174\n",
            "\n",
            "    accuracy                           0.68    200000\n",
            "   macro avg       0.46      0.48      0.46    200000\n",
            "weighted avg       0.71      0.68      0.69    200000\n",
            "\n"
          ],
          "name": "stdout"
        }
      ]
    },
    {
      "cell_type": "markdown",
      "metadata": {
        "id": "oK8Y7kuyv2NH"
      },
      "source": [
        "# Сабмит FastText"
      ]
    },
    {
      "cell_type": "markdown",
      "metadata": {
        "id": "kD7YAAqeUW_q"
      },
      "source": [
        "Так как fasttext показал наилучшие результаты, то сабмит делался на основе этой модели"
      ]
    },
    {
      "cell_type": "code",
      "metadata": {
        "id": "iRRvVsAMuXzW",
        "colab": {
          "base_uri": "https://localhost:8080/"
        },
        "outputId": "a340de86-3425-4502-cc06-1c2fe5b594ef"
      },
      "source": [
        "import pandas as pd\n",
        "from google.colab import drive\n",
        "drive.mount('/content/drive')"
      ],
      "execution_count": null,
      "outputs": [
        {
          "output_type": "stream",
          "text": [
            "Drive already mounted at /content/drive; to attempt to forcibly remount, call drive.mount(\"/content/drive\", force_remount=True).\n"
          ],
          "name": "stdout"
        }
      ]
    },
    {
      "cell_type": "code",
      "metadata": {
        "id": "0UEPthLev6op"
      },
      "source": [
        "#del X\n",
        "test = pd.read_csv('/content/data/test.csv')\n",
        "test.fillna(' ', inplace = True)\n",
        "test['text']=test['title']+' '+test['description']"
      ],
      "execution_count": null,
      "outputs": []
    },
    {
      "cell_type": "code",
      "metadata": {
        "id": "pqRcIeJGvyfz"
      },
      "source": [
        "test['text'] = test['text'].apply(lambda x: ' '.join(simple_preprocess(x)))"
      ],
      "execution_count": null,
      "outputs": []
    },
    {
      "cell_type": "code",
      "metadata": {
        "id": "fznb5AYhwCgT"
      },
      "source": [
        "predictions = model.predict(test.text.tolist())[0]"
      ],
      "execution_count": null,
      "outputs": []
    },
    {
      "cell_type": "code",
      "metadata": {
        "id": "I33zHn9SwzDe"
      },
      "source": [
        "preds=[]\n",
        "for lst in predictions:\n",
        "   preds.extend(lst)\n",
        "   preds[-1] = preds[-1].split('__label__')[1]"
      ],
      "execution_count": null,
      "outputs": []
    },
    {
      "cell_type": "code",
      "metadata": {
        "id": "o_8NKzzWw24G"
      },
      "source": [
        "my_submit = pd.DataFrame({'Id': test['itemid'], 'Category': preds})\n",
        "my_submit.to_csv('/content/sub800k.csv', index=False)"
      ],
      "execution_count": null,
      "outputs": []
    }
  ]
}